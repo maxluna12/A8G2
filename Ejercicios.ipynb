{
  "nbformat": 4,
  "nbformat_minor": 0,
  "metadata": {
    "colab": {
      "provenance": [],
      "authorship_tag": "ABX9TyOOh8eYpjpi1RSsIPa1yKva",
      "include_colab_link": true
    },
    "kernelspec": {
      "name": "python3",
      "display_name": "Python 3"
    },
    "language_info": {
      "name": "python"
    }
  },
  "cells": [
    {
      "cell_type": "markdown",
      "metadata": {
        "id": "view-in-github",
        "colab_type": "text"
      },
      "source": [
        "<a href=\"https://colab.research.google.com/github/maxluna12/A8G2/blob/main/Ejercicios.ipynb\" target=\"_parent\"><img src=\"https://colab.research.google.com/assets/colab-badge.svg\" alt=\"Open In Colab\"/></a>"
      ]
    },
    {
      "cell_type": "code",
      "execution_count": null,
      "metadata": {
        "id": "0W5RUDcVAzFJ"
      },
      "outputs": [],
      "source": []
    },
    {
      "cell_type": "markdown",
      "source": [
        "Escribe un programa que solicite al usuario queingrese su nombre.El nombre se debe amacenar en una variabe llamada nombre. A continuacion se ddebe mostrar por pantalla el texto \" Ahora estas en la Matrix,[usuario], donde [usuario] se reempazara por el nombre que el usuario haya ingresado.\n",
        "\n",
        "Solucion:\n"
      ],
      "metadata": {
        "id": "rVZfjvHxA8fk"
      }
    },
    {
      "cell_type": "code",
      "source": [
        "nombre=input(\"Tu nombre : \")\n",
        "print(\"Ahora estas en la Matrix,\",nombre)"
      ],
      "metadata": {
        "colab": {
          "base_uri": "https://localhost:8080/"
        },
        "id": "k-uSpIY7B4AL",
        "outputId": "eef36480-6794-4b9a-af97-00043d45b57f"
      },
      "execution_count": 3,
      "outputs": [
        {
          "output_type": "stream",
          "name": "stdout",
          "text": [
            "Tu nombre : Maximiliano\n",
            "Ahora estas en la Matrix, Maximiliano\n"
          ]
        }
      ]
    },
    {
      "cell_type": "code",
      "source": [],
      "metadata": {
        "id": "pmD4NuTkBzWi"
      },
      "execution_count": 1,
      "outputs": []
    }
  ]
}